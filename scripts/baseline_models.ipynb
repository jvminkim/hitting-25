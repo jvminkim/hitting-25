{
 "cells": [
  {
   "cell_type": "code",
   "execution_count": 2,
   "id": "2b279fef-b9fa-4c35-9a3d-f3aaefa41896",
   "metadata": {},
   "outputs": [
    {
     "name": "stdout",
     "output_type": "stream",
     "text": [
      "Running on PyMC v5.19.1\n"
     ]
    }
   ],
   "source": [
    "import arviz as az\n",
    "import matplotlib.pyplot as plt\n",
    "import matplotlib as mpl\n",
    "import seaborn as sns\n",
    "import seaborn.objects as so\n",
    "import numpy as np\n",
    "import pandas as pd\n",
    "import polars as pl\n",
    "import pymc as pm\n",
    "import pytensor as pt\n",
    "import pybaseball \n",
    "\n",
    "import warnings\n",
    "warnings.filterwarnings(\"ignore\", category=UserWarning)\n",
    "\n",
    "RANDOM_SEED = 504\n",
    "\n",
    "print(f\"Running on PyMC v{pm.__version__}\")\n"
   ]
  },
  {
   "cell_type": "code",
   "execution_count": 10,
   "id": "2792b9b3-80b6-41af-930d-e936ca479c40",
   "metadata": {},
   "outputs": [],
   "source": [
    "from retrieve_sql_module import get_events_data\n",
    "events_data_2024 = get_events_data(\"2024\")"
   ]
  },
  {
   "cell_type": "code",
   "execution_count": null,
   "id": "d6fd06e1-b687-4ae6-bf6a-6e4840e20cc7",
   "metadata": {},
   "outputs": [],
   "source": []
  }
 ],
 "metadata": {
  "kernelspec": {
   "display_name": "Python 3 (ipykernel)",
   "language": "python",
   "name": "python3"
  },
  "language_info": {
   "codemirror_mode": {
    "name": "ipython",
    "version": 3
   },
   "file_extension": ".py",
   "mimetype": "text/x-python",
   "name": "python",
   "nbconvert_exporter": "python",
   "pygments_lexer": "ipython3",
   "version": "3.12.8"
  }
 },
 "nbformat": 4,
 "nbformat_minor": 5
}
