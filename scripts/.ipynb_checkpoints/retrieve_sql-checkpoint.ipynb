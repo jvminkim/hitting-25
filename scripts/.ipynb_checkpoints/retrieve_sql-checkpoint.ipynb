{
 "cells": [
  {
   "cell_type": "code",
   "execution_count": 1,
   "id": "d870b6ad",
   "metadata": {},
   "outputs": [],
   "source": [
    "import psycopg2\n",
    "import os\n",
    "import pandas as pd\n"
   ]
  },
  {
   "cell_type": "code",
   "execution_count": 12,
   "id": "89f25ea0",
   "metadata": {},
   "outputs": [],
   "source": [
    "# Establish PostgreSQL connection\n",
    "def get_connection():\n",
    "    conn = psycopg2.connect(\n",
    "    dbname=\"statcast\",\n",
    "    user=\"postgres\",\n",
    "    password=\"jamin\",\n",
    "    host=\"localhost\",\n",
    "    port=\"5432\"\n",
    ")\n",
    "    return conn"
   ]
  },
  {
   "cell_type": "code",
   "execution_count": 13,
   "id": "92302c5d",
   "metadata": {},
   "outputs": [],
   "source": [
    "conn = get_connection()"
   ]
  },
  {
   "cell_type": "code",
   "execution_count": null,
   "id": "247496ea",
   "metadata": {},
   "outputs": [],
   "source": [
    "def get_pbp_data(conn, years, batted_ball):\n",
    "    def query_year(year):\n",
    "        if batted_ball == 1:\n",
    "            query = f\"\"\"\n",
    "                SELECT * FROM statcast_all\n",
    "                WHERE hc_x IS NOT NULL AND\n",
    "                      hc_y IS NOT NULL AND\n",
    "                      launch_angle IS NOT NULL AND\n",
    "                      launch_speed IS NOT NULL AND\n",
    "                      game_year = {year};\n",
    "                      \"\"\"\n",
    "        else:\n",
    "            print(\"Z\")\n",
    "            query = f\"\"\"\n",
    "                SELECT * FROM statcast_all\n",
    "                WHERE game_year = {year};\n",
    "                \"\"\"\n",
    "            print(query)\n",
    "        return pd.read_sql(query, conn)\n",
    "        \n",
    "    pbp_data_list = [query_year(year) for year in years]\n",
    "        \n",
    "    pbp_data = pd.concat(pbp_data_list, ignore_index=True)\n",
    "        \n",
    "    return pbp_data"
   ]
  },
  {
   "cell_type": "code",
   "execution_count": 16,
   "id": "8bde6fbf",
   "metadata": {},
   "outputs": [
    {
     "name": "stdout",
     "output_type": "stream",
     "text": [
      "Z\n",
      "\n",
      "                SELECT * FROM statcast_all\n",
      "                WHERE game_year = 2021;\n",
      "                \n"
     ]
    },
    {
     "name": "stderr",
     "output_type": "stream",
     "text": [
      "C:\\Users\\jamin\\AppData\\Local\\Temp\\ipykernel_21484\\1437744967.py:19: UserWarning: pandas only supports SQLAlchemy connectable (engine/connection) or database string URI or sqlite3 DBAPI2 connection. Other DBAPI2 objects are not tested. Please consider using SQLAlchemy.\n",
      "  return pd.read_sql(query, conn)\n"
     ]
    },
    {
     "name": "stdout",
     "output_type": "stream",
     "text": [
      "Z\n",
      "\n",
      "                SELECT * FROM statcast_all\n",
      "                WHERE game_year = 2022;\n",
      "                \n"
     ]
    },
    {
     "name": "stderr",
     "output_type": "stream",
     "text": [
      "C:\\Users\\jamin\\AppData\\Local\\Temp\\ipykernel_21484\\1437744967.py:19: UserWarning: pandas only supports SQLAlchemy connectable (engine/connection) or database string URI or sqlite3 DBAPI2 connection. Other DBAPI2 objects are not tested. Please consider using SQLAlchemy.\n",
      "  return pd.read_sql(query, conn)\n"
     ]
    },
    {
     "name": "stdout",
     "output_type": "stream",
     "text": [
      "Z\n",
      "\n",
      "                SELECT * FROM statcast_all\n",
      "                WHERE game_year = 2023;\n",
      "                \n"
     ]
    },
    {
     "name": "stderr",
     "output_type": "stream",
     "text": [
      "C:\\Users\\jamin\\AppData\\Local\\Temp\\ipykernel_21484\\1437744967.py:19: UserWarning: pandas only supports SQLAlchemy connectable (engine/connection) or database string URI or sqlite3 DBAPI2 connection. Other DBAPI2 objects are not tested. Please consider using SQLAlchemy.\n",
      "  return pd.read_sql(query, conn)\n"
     ]
    }
   ],
   "source": [
    "conn = get_connection()\n",
    "years = list(range(2021,2024))\n",
    "pbp_data = get_pbp_data(conn, years, 0)"
   ]
  },
  {
   "cell_type": "code",
   "execution_count": 15,
   "id": "9a875a05",
   "metadata": {},
   "outputs": [
    {
     "name": "stdout",
     "output_type": "stream",
     "text": [
      "        pitch_type  game_date  release_speed  release_pos_x  release_pos_z  \\\n",
      "0               FF 2021-10-03           92.3           1.40           6.80   \n",
      "1               SL 2021-10-03           80.6           1.60           6.64   \n",
      "2               CU 2021-10-03           75.5           1.46           6.88   \n",
      "3               CU 2021-10-03           75.0           1.53           6.83   \n",
      "4               FF 2021-10-03           91.2           1.49           6.66   \n",
      "...            ...        ...            ...            ...            ...   \n",
      "1418387         FS 2022-04-07           91.8          -1.76           6.04   \n",
      "1418388         ST 2022-04-07           86.9          -2.29           5.77   \n",
      "1418389         FF 2022-04-07           99.2          -2.13           5.87   \n",
      "1418390         FF 2022-04-07           97.9          -2.16           5.89   \n",
      "1418391         FF 2022-04-07           99.8          -2.19           5.82   \n",
      "\n",
      "            player_name  batter  pitcher     events    description  ...  \\\n",
      "0           Smith, Will  596019   519293  field_out  hit_into_play  ...   \n",
      "1           Smith, Will  596019   519293       None           foul  ...   \n",
      "2           Smith, Will  596019   519293       None           foul  ...   \n",
      "3           Smith, Will  596019   519293       None           ball  ...   \n",
      "4           Smith, Will  607043   519293  field_out  hit_into_play  ...   \n",
      "...                 ...     ...      ...        ...            ...  ...   \n",
      "1418387  Ohtani, Shohei  514888   660271  strikeout  called_strike  ...   \n",
      "1418388  Ohtani, Shohei  514888   660271       None  called_strike  ...   \n",
      "1418389  Ohtani, Shohei  514888   660271       None           ball  ...   \n",
      "1418390  Ohtani, Shohei  514888   660271       None  called_strike  ...   \n",
      "1418391  Ohtani, Shohei  514888   660271       None           ball  ...   \n",
      "\n",
      "        n_thruorder_pitcher n_priorpa_thisgame_player_at_bat  \\\n",
      "0                         1                                3   \n",
      "1                         1                                3   \n",
      "2                         1                                3   \n",
      "3                         1                                3   \n",
      "4                         1                                3   \n",
      "...                     ...                              ...   \n",
      "1418387                   1                                0   \n",
      "1418388                   1                                0   \n",
      "1418389                   1                                0   \n",
      "1418390                   1                                0   \n",
      "1418391                   1                                0   \n",
      "\n",
      "        pitcher_days_since_prev_game batter_days_since_prev_game  \\\n",
      "0                                3.0                         1.0   \n",
      "1                                3.0                         1.0   \n",
      "2                                3.0                         1.0   \n",
      "3                                3.0                         1.0   \n",
      "4                                3.0                         1.0   \n",
      "...                              ...                         ...   \n",
      "1418387                          NaN                         NaN   \n",
      "1418388                          NaN                         NaN   \n",
      "1418389                          NaN                         NaN   \n",
      "1418390                          NaN                         NaN   \n",
      "1418391                          NaN                         NaN   \n",
      "\n",
      "         pitcher_days_until_next_game batter_days_until_next_game  \\\n",
      "0                                 6.0                         NaN   \n",
      "1                                 6.0                         NaN   \n",
      "2                                 6.0                         NaN   \n",
      "3                                 6.0                         NaN   \n",
      "4                                 6.0                         NaN   \n",
      "...                               ...                         ...   \n",
      "1418387                           7.0                         1.0   \n",
      "1418388                           7.0                         1.0   \n",
      "1418389                           7.0                         1.0   \n",
      "1418390                           7.0                         1.0   \n",
      "1418391                           7.0                         1.0   \n",
      "\n",
      "        api_break_z_with_gravity api_break_x_arm api_break_x_batter_in  \\\n",
      "0                           1.28            0.69                 -0.69   \n",
      "1                           2.99           -0.77                  0.77   \n",
      "2                           4.52           -0.65                  0.65   \n",
      "3                           4.74           -0.69                  0.69   \n",
      "4                           1.49            0.63                  0.63   \n",
      "...                          ...             ...                   ...   \n",
      "1418387                     2.58            0.30                  0.30   \n",
      "1418388                     2.46           -1.11                 -1.11   \n",
      "1418389                     1.48           -0.04                 -0.04   \n",
      "1418390                     1.29           -0.08                 -0.08   \n",
      "1418391                     1.23            0.19                  0.19   \n",
      "\n",
      "        arm_angle  \n",
      "0            47.4  \n",
      "1            44.3  \n",
      "2            51.7  \n",
      "3            49.5  \n",
      "4            44.0  \n",
      "...           ...  \n",
      "1418387      45.3  \n",
      "1418388      36.9  \n",
      "1418389      37.3  \n",
      "1418390      40.3  \n",
      "1418391      36.4  \n",
      "\n",
      "[1418392 rows x 113 columns]\n"
     ]
    }
   ],
   "source": [
    "print(pbp_data)"
   ]
  },
  {
   "cell_type": "code",
   "execution_count": 19,
   "id": "5721c9e9",
   "metadata": {},
   "outputs": [
    {
     "name": "stdout",
     "output_type": "stream",
     "text": [
      "[2021, 2022, 2023, 2024]\n"
     ]
    }
   ],
   "source": [
    "print(list(range(2021,2025)))"
   ]
  }
 ],
 "metadata": {
  "kernelspec": {
   "display_name": "base",
   "language": "python",
   "name": "python3"
  },
  "language_info": {
   "codemirror_mode": {
    "name": "ipython",
    "version": 3
   },
   "file_extension": ".py",
   "mimetype": "text/x-python",
   "name": "python",
   "nbconvert_exporter": "python",
   "pygments_lexer": "ipython3",
   "version": "3.10.9"
  }
 },
 "nbformat": 4,
 "nbformat_minor": 5
}
