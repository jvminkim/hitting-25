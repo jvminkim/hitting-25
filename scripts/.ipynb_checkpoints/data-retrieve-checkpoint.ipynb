{
 "cells": [
  {
   "cell_type": "code",
   "execution_count": 8,
   "id": "d870b6ad",
   "metadata": {},
   "outputs": [],
   "source": [
    "import psycopg2\n",
    "import os\n",
    "import pandas as pd\n"
   ]
  },
  {
   "cell_type": "code",
   "execution_count": 6,
   "id": "89f25ea0",
   "metadata": {},
   "outputs": [],
   "source": [
    "# Establish PostgreSQL connection\n",
    "def get_connection():\n",
    "    conn = psycopg2.connect(\n",
    "        dbname=\"statcast\",\n",
    "        host=\"localhost\",\n",
    "        port=5432,\n",
    "        user=os.getenv(\"PGUSER\"),\n",
    "        password=os.getenv(\"PGPASSWORD\")\n",
    "    )\n",
    "    return conn"
   ]
  },
  {
   "cell_type": "code",
   "execution_count": 7,
   "id": "92302c5d",
   "metadata": {},
   "outputs": [],
   "source": [
    "conn = get_connection()"
   ]
  },
  {
   "cell_type": "code",
   "execution_count": 16,
   "id": "247496ea",
   "metadata": {},
   "outputs": [],
   "source": [
    "def get_pbp_data(conn, years, batted_ball):\n",
    "    def query_year(year):\n",
    "        if batted_ball == 1:\n",
    "            query = f\"\"\"\n",
    "                SELECT * FROM statcast_all\n",
    "                WHERE hc_x IS NOT NULL AND\n",
    "                      hc_y IS NOT NULL AND\n",
    "                      launch_angle IS NOT NULL AND\n",
    "                      launch_speed IS NOT NULL AND\n",
    "                      game_year = {year};\n",
    "                      \"\"\"\n",
    "        else:\n",
    "            query = f\"\"\"\n",
    "                SELECT * FROM statcast_all\n",
    "                WHERE game_year = {year};\n",
    "                \"\"\"\n",
    "            return pd.read_sql(query, conn)\n",
    "        \n",
    "        pbp_data_list = [query_year(year) for year in years]\n",
    "        \n",
    "        pbp_data = pd.concat(pbp_data_list, ignore_index=True)\n",
    "        \n",
    "        return pbp_data"
   ]
  },
  {
   "cell_type": "code",
   "execution_count": 17,
   "id": "8bde6fbf",
   "metadata": {},
   "outputs": [],
   "source": [
    "conn = get_connection()\n",
    "years = list(range(2021,2024))\n",
    "pbp_data = get_pbp_data(conn, years, 0)"
   ]
  },
  {
   "cell_type": "code",
   "execution_count": 19,
   "id": "9a875a05",
   "metadata": {},
   "outputs": [
    {
     "ename": "AttributeError",
     "evalue": "'NoneType' object has no attribute 'head'",
     "output_type": "error",
     "traceback": [
      "\u001b[1;31m---------------------------------------------------------------------------\u001b[0m",
      "\u001b[1;31mAttributeError\u001b[0m                            Traceback (most recent call last)",
      "Cell \u001b[1;32mIn[19], line 1\u001b[0m\n\u001b[1;32m----> 1\u001b[0m \u001b[43mpbp_data\u001b[49m\u001b[38;5;241;43m.\u001b[39;49m\u001b[43mhead\u001b[49m()\n",
      "\u001b[1;31mAttributeError\u001b[0m: 'NoneType' object has no attribute 'head'"
     ]
    }
   ],
   "source": [
    "pbp_data.head()"
   ]
  }
 ],
 "metadata": {
  "kernelspec": {
   "display_name": "Python 3 (ipykernel)",
   "language": "python",
   "name": "python3"
  },
  "language_info": {
   "codemirror_mode": {
    "name": "ipython",
    "version": 3
   },
   "file_extension": ".py",
   "mimetype": "text/x-python",
   "name": "python",
   "nbconvert_exporter": "python",
   "pygments_lexer": "ipython3",
   "version": "3.10.9"
  }
 },
 "nbformat": 4,
 "nbformat_minor": 5
}
